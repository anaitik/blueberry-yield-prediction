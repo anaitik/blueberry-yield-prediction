

import pandas as pd
from sklearn.ensemble import RandomForestRegressor
from sklearn.model_selection import train_test_split
from sklearn.metrics import mean_squared_error

# Load the training data
train_data = pd.read_csv('train.csv')

# Extract features and target variable from the training data
X_train = train_data.drop(['id', 'yield'], axis=1)
y_train = train_data['yield']

# Split the data into training and validation sets
X_train, X_val, y_train, y_val = train_test_split(X_train, y_train, test_size=0.2, random_state=42)

# Create and train a random forest regression model
model = RandomForestRegressor(n_estimators=100, random_state=42)
model.fit(X_train, y_train)

# Evaluate the model on the validation set
y_pred_val = model.predict(X_val)
val_rmse = mean_squared_error(y_val, y_pred_val, squared=False)
print("Validation RMSE:", val_rmse)

# Load the test data
test_data = pd.read_csv('test.csv')

# Extract features from the test data
X_test = test_data.drop('id', axis=1)

# Make predictions on the test data using the trained model
y_pred_test = model.predict(X_test)

# Create a submission DataFrame with the predicted yield values and the corresponding IDs
submission_data = pd.DataFrame({'id': test_data['id'], 'yield': y_pred_test})

# Save the submission DataFrame to a CSV file
submission_data.to_csv('submission.csv', index=False)
