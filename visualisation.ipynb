import pandas as pd
import matplotlib.pyplot as plt

# Load the train.csv file
data = pd.read_csv('/content/train.csv')

# Create subplots for temperature ranges and yield
fig, axes = plt.subplots(2, 2, figsize=(12, 8))

# Temperature ranges and yield
axes[0, 0].scatter(data['maxOfUpperTRange'], data['yield'])
axes[0, 0].set_xlabel('maxOfUpperTRange')
axes[0, 0].set_ylabel('Yield')

axes[0, 1].scatter(data['minOfUpperTRange'], data['yield'])
axes[0, 1].set_xlabel('minOfUpperTRange')
axes[0, 1].set_ylabel('Yield')

axes[1, 0].scatter(data['maxOfLowerTRange'], data['yield'])
axes[1, 0].set_xlabel('maxOfLowerTRange')
axes[1, 0].set_ylabel('Yield')

axes[1, 1].scatter(data['minOfLowerTRange'], data['yield'])
axes[1, 1].set_xlabel('minOfLowerTRange')
axes[1, 1].set_ylabel('Yield')

# Adjust spacing between subplots
plt.tight_layout()

# Show the temperature ranges and yield graph
plt.show()


# Create subplots for rainy days and yield
fig, ax = plt.subplots(figsize=(8, 6))

# Rainy days and yield
ax.scatter(data['rainingDays'], data['yield'])
ax.set_xlabel('rainingDays')
ax.set_ylabel('Yield')

# Show the rainy days and yield graph
plt.show()


# Create subplots for bee populations and yield
fig, axes = plt.subplots(2, 2, figsize=(12, 8))

# Bee populations and yield
axes[0, 0].scatter(data['honeybee'], data['yield'])
axes[0, 0].set_xlabel('honeybee')
axes[0, 0].set_ylabel('Yield')

axes[0, 1].scatter(data['bumbles'], data['yield'])
axes[0, 1].set_xlabel('bumbles')
axes[0, 1].set_ylabel('Yield')

axes[1, 0].scatter(data['andrena'], data['yield'])
axes[1, 0].set_xlabel('andrena')
axes[1, 0].set_ylabel('Yield')

axes[1, 1].scatter(data['osmia'], data['yield'])
axes[1, 1].set_xlabel('osmia')
axes[1, 1].set_ylabel('Yield')

# Adjust spacing between subplots
plt.tight_layout()

# Show the bee populations and yield graph
plt.show()
