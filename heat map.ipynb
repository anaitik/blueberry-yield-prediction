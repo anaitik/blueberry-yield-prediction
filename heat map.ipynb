import pandas as pd
import seaborn as sns
import matplotlib.pyplot as plt

# Load the train.csv file
data = pd.read_csv('/content/train.csv')

# Compute the correlation matrix
corr_matrix = data.corr()

# Create a heat map
plt.figure(figsize=(10, 8))
sns.heatmap(corr_matrix, annot=True, cmap='coolwarm')

# Set the title of the heat map
plt.title('Correlation Heatmap')

# Show the heat map
plt.show()